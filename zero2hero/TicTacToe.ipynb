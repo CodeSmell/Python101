{
  "cells": [
    {
      "cell_type": "markdown",
      "id": "5114d844-e3c5-4284-9825-8ef0be319728",
      "metadata": {},
      "source": [
        "## Milestone 1 Project\n",
        "Use Python to create a Tic Tac Toe game"
      ]
    },
    {
      "cell_type": "code",
      "execution_count": 1,
      "id": "24ea43c1-e39f-445b-b3ed-bc2c010d88c9",
      "metadata": {
        "trusted": true
      },
      "outputs": [],
      "source": [
        "empty_space = ' '\n",
        "\n",
        "default_row  = [empty_space, empty_space, empty_space]\n",
        "\n",
        "def setup_game():\n",
        "    game = [None, None, None]\n",
        "    # deep copy of the default row\n",
        "    game[0] = list(default_row)\n",
        "    game[1] = list(default_row)\n",
        "    game[2] = list(default_row)\n",
        "\n",
        "    return game"
      ]
    },
    {
      "cell_type": "code",
      "execution_count": 2,
      "id": "b37308d9-1a91-4c14-b500-3b8e945dfec6",
      "metadata": {
        "trusted": true
      },
      "outputs": [],
      "source": [
        "from IPython.display import clear_output\n",
        "#\n",
        "# display the tic-tac-toe board\n",
        "# expecting a 2D list\n",
        "#\n",
        "def show_board(board):\n",
        "    clear_output()\n",
        "    \n",
        "    print('')\n",
        "    print('the board (as-is)')\n",
        "    print('')\n",
        "    for x in range(0,3):\n",
        "        y = 0\n",
        "        print(board[x][y] + \"|\" + board[x][y+1] + \"|\" + board[x][y+2])\n",
        "        if x < 2:\n",
        "            print(\"-\"*5)\n",
        "    print('')"
      ]
    },
    {
      "cell_type": "code",
      "execution_count": 3,
      "id": "0b204b4d-878a-4484-ae55-707f9698c371",
      "metadata": {
        "trusted": true
      },
      "outputs": [
        {
          "name": "stdout",
          "output_type": "stream",
          "text": [
            "\n",
            "the board (as-is)\n",
            "\n",
            " | | \n",
            "-----\n",
            " | | \n",
            "-----\n",
            " | | \n",
            "\n"
          ]
        }
      ],
      "source": [
        "myGame = setup_game()\n",
        "show_board(myGame)"
      ]
    },
    {
      "cell_type": "code",
      "execution_count": null,
      "id": "a65ed1f1-b6be-47d9-b871-c666b2a6204f",
      "metadata": {
        "trusted": true
      },
      "outputs": [],
      "source": [
        "# place the icon (X or O) on the board\n",
        "def update_game(board, icon, x,y):\n",
        "    board[x][y] = icon\n",
        "\n",
        "# accept o based row/column coordinates\n",
        "def in_range(num):\n",
        "    return num in range(0,3)\n",
        "\n",
        "# is the move allowed - no icon/marker already there\n",
        "def check_move(board, x,y):\n",
        "    return in_range(x) and in_range(y) and (board[x][y] == empty_space)\n",
        "\n",
        "# check and see if all spaces are filled\n",
        "def any_play_left(board):\n",
        "    return empty_space in board[0] or empty_space in board[1] or empty_space in board[2]\n",
        "\n",
        "# check for a winner\n",
        "def is_winner(board):\n",
        "    winner = False\n",
        "    # check each row\n",
        "    for x in range(0,3):\n",
        "        y = 0\n",
        "        if board[x][y] != empty_space and board[x][y] == board[x][y+1] == board[x][y+2]: \n",
        "            winner = True\n",
        "    \n",
        "    # check each column\n",
        "    for y in range(0,3):\n",
        "        x = 0\n",
        "        if board[x][y] != empty_space and board[x][y] == board[x+1][y] == board[x+2][y]: \n",
        "            winner = True\n",
        "\n",
        "    # check diagonals\n",
        "    if board[0][0] != empty_space and board[0][0] == board[1][1] == board[2][2]: \n",
        "            winner = True\n",
        "\n",
        "    if board[0][2] != empty_space and board[0][2] == board[1][1] == board[2][0]: \n",
        "        winner = True\n",
        "\n",
        "    return winner"
      ]
    },
    {
      "cell_type": "code",
      "execution_count": null,
      "id": "024ffce7-555a-4642-82d3-86c2dd9b4856",
      "metadata": {
        "trusted": true
      },
      "outputs": [],
      "source": [
        "if check_move(myGame,1,1):\n",
        "    update_game(myGame,'x',1,1)\n",
        "if check_move(myGame,0,0):\n",
        "    update_game(myGame,'y',0,0)\n",
        "if check_move(myGame,0,1):\n",
        "    update_game(myGame,'x',0,1)    \n",
        "show_board(myGame,)"
      ]
    },
    {
      "cell_type": "code",
      "execution_count": null,
      "id": "a01421d2-ce7f-4318-93b5-c3fb8092d114",
      "metadata": {
        "trusted": true
      },
      "outputs": [],
      "source": [
        "check_move(myGame,14,2)"
      ]
    },
    {
      "cell_type": "code",
      "execution_count": null,
      "id": "e4636664-0991-4337-9481-f8f7a896d91c",
      "metadata": {
        "trusted": true
      },
      "outputs": [],
      "source": [
        "check_move(myGame,2,1)"
      ]
    },
    {
      "cell_type": "code",
      "execution_count": null,
      "id": "e6ce9109-3412-433a-9f67-30fe14a1b38d",
      "metadata": {
        "trusted": true
      },
      "outputs": [],
      "source": [
        "is_winner(myGame)"
      ]
    },
    {
      "cell_type": "code",
      "execution_count": null,
      "id": "c4e47a7b-f466-4d7d-a4da-ec1731fc2dc7",
      "metadata": {
        "trusted": true
      },
      "outputs": [],
      "source": [
        "update_game(myGame,'x',1,1)\n",
        "update_game(myGame,'x',1,2)\n",
        "update_game(myGame,'x',1,0)\n",
        "show_board(myGame)"
      ]
    },
    {
      "cell_type": "code",
      "execution_count": null,
      "id": "6a7c938e-7734-435f-b242-d9333bf295c5",
      "metadata": {
        "trusted": true
      },
      "outputs": [],
      "source": [
        "is_winner(myGame)"
      ]
    },
    {
      "cell_type": "code",
      "execution_count": null,
      "id": "cef0b517-5c62-487e-b257-8c9700ce64b6",
      "metadata": {
        "trusted": true
      },
      "outputs": [],
      "source": [
        "myGame = setup_game()\n",
        "is_winner(myGame)"
      ]
    },
    {
      "cell_type": "code",
      "execution_count": null,
      "id": "c9434a36-6986-4093-9615-866fa6a2cf48",
      "metadata": {
        "trusted": true
      },
      "outputs": [],
      "source": [
        "update_game(myGame,'x',0,0)\n",
        "update_game(myGame,'x',1,1)\n",
        "update_game(myGame,'x',2,2)\n",
        "show_board(myGame)"
      ]
    },
    {
      "cell_type": "code",
      "execution_count": null,
      "id": "57d95641-2814-451f-84f2-90690bf40c0e",
      "metadata": {
        "trusted": true
      },
      "outputs": [],
      "source": [
        "is_winner(myGame)"
      ]
    },
    {
      "cell_type": "code",
      "execution_count": null,
      "id": "13533328-1f12-438a-bc58-51ae7bee1939",
      "metadata": {
        "trusted": true
      },
      "outputs": [],
      "source": [
        "myGame = setup_game()\n",
        "is_winner(myGame)"
      ]
    },
    {
      "cell_type": "code",
      "execution_count": null,
      "id": "f105fb5f-9f17-47a4-819b-b7b5a77342c8",
      "metadata": {
        "trusted": true
      },
      "outputs": [],
      "source": [
        "update_game(myGame,'y',0,2)\n",
        "update_game(myGame,'y',1,1)\n",
        "update_game(myGame,'y',2,0)\n",
        "show_board(myGame)"
      ]
    },
    {
      "cell_type": "code",
      "execution_count": null,
      "id": "0ed78fa3-8ee6-4c89-8684-ca25e507e19d",
      "metadata": {
        "trusted": true
      },
      "outputs": [],
      "source": [
        "is_winner(myGame)"
      ]
    },
    {
      "cell_type": "code",
      "execution_count": null,
      "id": "46cfafd4-27cf-473d-bcde-bb08a4fef393",
      "metadata": {
        "trusted": true
      },
      "outputs": [],
      "source": [
        "# return tuple of the move\n",
        "def get_input(board, icon):\n",
        "    valid = False\n",
        "    x_coord = None\n",
        "    y_coord = None\n",
        "    \n",
        "    while (not valid):\n",
        "        x_coord = get_coord(icon, True)\n",
        "        y_coord = get_coord(icon, False)\n",
        "        valid = check_move(board, x_coord, y_coord)\n",
        "        if (not valid):\n",
        "            print('that spot is already taken')\n",
        "    return (x_coord,y_coord)\n",
        "\n",
        "def get_coord(icon, isRow):\n",
        "    valid = False\n",
        "    \n",
        "    msg = \"(column)\"\n",
        "    if (isRow): msg = \"(row)\"\n",
        "    while (not valid):\n",
        "        value = input(f\"Player {icon} your move \" + msg + \" >>\")\n",
        "        if (value.isdigit()) and (int(value) in range(0,3)):\n",
        "            valid = True\n",
        "    return int(value)\n",
        "    \n",
        "def player_move(board,icon):\n",
        "    # get player input\n",
        "    value = get_input(board,icon)\n",
        "\n",
        "    # update board\n",
        "    update_game(board, icon, value[0], value[1])    \n"
      ]
    },
    {
      "cell_type": "code",
      "execution_count": null,
      "id": "1be50b95-59f7-4772-b2c5-049840a318a8",
      "metadata": {
        "trusted": true
      },
      "outputs": [],
      "source": [
        "# \n",
        "# main function to play\n",
        "#\n",
        "def tic_tac_toe():\n",
        "    replay = 'Y'\n",
        "    while (replay == 'Y'):\n",
        "        start_game()\n",
        "        replay = input('want to play again? (Y or anything else to quit)')\n",
        "\n",
        "def do_round(board):\n",
        "    continueGame = do_play(board,'x')\n",
        "    if (continueGame):\n",
        "        continueGame = do_play(board,'y')\n",
        "    return continueGame\n",
        "\n",
        "def do_play(board, icon):\n",
        "    continueGame = True\n",
        "    \n",
        "    player_move(board, icon)\n",
        "    show_board(board)\n",
        "    if (is_winner(board)):\n",
        "        continueGame = False\n",
        "        print('Congrats player {}'.format(icon))\n",
        "    elif (not any_play_left(board)): \n",
        "        continueGame = False\n",
        "        print('It is a tie')\n",
        "    \n",
        "    return continueGame\n",
        "\n",
        "# \n",
        "# setup game\n",
        "# loop to play\n",
        "#\n",
        "def start_game():\n",
        "    theGame = setup_game()\n",
        "    show_board(theGame)\n",
        "\n",
        "    print(\"Enter a number between 0 and 2\")\n",
        "    while (do_round(theGame)):\n",
        "        pass\n"
      ]
    },
    {
      "cell_type": "code",
      "execution_count": 4,
      "id": "23d214f1-fc5f-4122-a13a-9fd962d97418",
      "metadata": {
        "trusted": true
      },
      "outputs": [
        {
          "ename": "NameError",
          "evalue": "name 'tic_tac_toe' is not defined",
          "output_type": "error",
          "traceback": [
            "\u001b[31m---------------------------------------------------------------------------\u001b[39m",
            "\u001b[31mNameError\u001b[39m                                 Traceback (most recent call last)",
            "\u001b[36mCell\u001b[39m\u001b[36m \u001b[39m\u001b[32mIn[4]\u001b[39m\u001b[32m, line 1\u001b[39m\n\u001b[32m----> \u001b[39m\u001b[32m1\u001b[39m \u001b[43mtic_tac_toe\u001b[49m()\n",
            "\u001b[31mNameError\u001b[39m: name 'tic_tac_toe' is not defined"
          ]
        }
      ],
      "source": [
        "tic_tac_toe()"
      ]
    },
    {
      "cell_type": "code",
      "execution_count": null,
      "id": "e99c1296-c84f-4774-b916-c1abf3c6acd8",
      "metadata": {
        "trusted": true
      },
      "outputs": [],
      "source": []
    }
  ],
  "metadata": {
    "kernelspec": {
      "display_name": "3.13.9",
      "language": "python",
      "name": "python3"
    },
    "language_info": {
      "codemirror_mode": {
        "name": "ipython",
        "version": 3
      },
      "file_extension": ".py",
      "mimetype": "text/x-python",
      "name": "python",
      "nbconvert_exporter": "python",
      "pygments_lexer": "ipython3",
      "version": "3.13.9"
    }
  },
  "nbformat": 4,
  "nbformat_minor": 5
}
